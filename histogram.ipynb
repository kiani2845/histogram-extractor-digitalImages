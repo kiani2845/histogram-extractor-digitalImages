{
 "cells": [
  {
   "cell_type": "code",
   "execution_count": 4,
   "id": "73ec662b-3bdb-497d-b35b-75344c708388",
   "metadata": {},
   "outputs": [],
   "source": [
    "#by hamed kiani\n",
    "import cv2\n",
    "from matplotlib import pyplot as plt\n",
    "import tkinter as tk\n",
    "from tkinter import filedialog\n",
    "from PIL import Image, ImageTk\n",
    "from matplotlib.figure import Figure\n",
    "from matplotlib.backends.backend_tkagg import FigureCanvasTkAgg\n",
    "\n",
    "# خواندن تصویر\n",
    "def open_image():\n",
    "    # باز کردن دیالوگ فایل برای انتخاب تصویر\n",
    "    file_path = filedialog.askopenfilename(filetypes=[(\"Image files\", \"*.jpg;*.jpeg;*.png\")])\n",
    "    if file_path:\n",
    "        # خواندن تصویر\n",
    "        img = cv2.imread(file_path, 0)\n",
    "        \n",
    "        # نمایش تصویر در رابط کاربری\n",
    "        img_cv = cv2.cvtColor(img, cv2.COLOR_GRAY2RGB)\n",
    "        img_pil = Image.fromarray(img_cv)\n",
    "        img_tk = ImageTk.PhotoImage(image=img_pil)\n",
    "        img_label.config(image=img_tk)\n",
    "        img_label.image = img_tk\n",
    "        \n",
    "        # محاسبه و نمایش هیستوگرام\n",
    "        histr = cv2.calcHist([img], [0], None, [256], [0, 256])\n",
    "        ax.clear()\n",
    "        ax.plot(histr)\n",
    "        ax.set_title('Image Histogram')\n",
    "        ax.set_xlabel('Image Pixle')\n",
    "        ax.set_ylabel('Ferequency')\n",
    "        canvas.draw()\n",
    "\n",
    "\n",
    "# ایجاد پنجره\n",
    "root = tk.Tk()\n",
    "root.title(\"نمایش تصویر و هیستوگرام\")\n",
    "\n",
    "# دکمه برای باز کردن تصویر\n",
    "open_button = tk.Button(root, text=\"باز کردن تصویر\", command=open_image)\n",
    "open_button.pack()\n",
    "\n",
    "# برچسب برای نمایش تصویر\n",
    "img_label = tk.Label(root)\n",
    "img_label.pack()\n",
    "\n",
    "# نمایش هیستوگرام\n",
    "fig = Figure(figsize=(5, 4), dpi=100)\n",
    "ax = fig.add_subplot(111)\n",
    "canvas = FigureCanvasTkAgg(fig, master=root)\n",
    "canvas.get_tk_widget().pack(side=tk.TOP, fill=tk.BOTH, expand=1)\n",
    "\n",
    "# شروع برنامه\n",
    "root.mainloop()"
   ]
  },
  {
   "cell_type": "code",
   "execution_count": null,
   "id": "ae09e340-15cd-4dd9-aee9-86ff8c35780b",
   "metadata": {},
   "outputs": [],
   "source": []
  }
 ],
 "metadata": {
  "kernelspec": {
   "display_name": "Python 3 (ipykernel)",
   "language": "python",
   "name": "python3"
  },
  "language_info": {
   "codemirror_mode": {
    "name": "ipython",
    "version": 3
   },
   "file_extension": ".py",
   "mimetype": "text/x-python",
   "name": "python",
   "nbconvert_exporter": "python",
   "pygments_lexer": "ipython3",
   "version": "3.11.7"
  }
 },
 "nbformat": 4,
 "nbformat_minor": 5
}
